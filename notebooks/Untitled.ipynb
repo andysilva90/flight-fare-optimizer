{
 "cells": [
  {
   "cell_type": "markdown",
   "id": "06c6315a-78f3-404c-bea9-02b0c36d8198",
   "metadata": {},
   "source": [
    "# Flight Fare Optimizer\n",
    "\n",
    "## Overview\n",
    "\n",
    "This model solves a minimum-cost flight itinerary optimization problem using linear programming. It selects a path from a source city to a destination city by chaining together valid flights while minimizing the total fare. The model ensures logical routing with flow conservation constraints and supports multiple intermediate connections.\n",
    "\n",
    "## Data source\n",
    "A copy of the [Airelines Flights Data](https://www.kaggle.com/datasets/rohitgrewal/airlines-flights-data/data) provided in the Kaggle repository was saved in this project's folder locally. The dataset contained inside a csv file which includes the following attributes/columns described by the Author:\n",
    "\n",
    "1)  Airline: The name of the airline company is stored in the airline column. It is a categorical feature having 6 different airlines.\n",
    "2)\tFlight: Stores information regarding the plane’s flight code. It is a categorical feature.\n",
    "3)\tSource City: City from which the flight takes off. It is a categorical feature having 6 unique cities.\n",
    "4)\tDeparture Time: This is a derived categorical feature obtained created by grouping time periods into bins. It stores information about the departure time and have 6 unique time labels.\n",
    "5)\tStops: A categorical feature with 3 distinct values that stores the number of stops between the source and destination cities.\n",
    "6)\tArrival Time: This is a derived categorical feature created by grouping time intervals into bins. It has six distinct time labels and keeps information about the arrival time.\n",
    "7)\tDestination City: City where the flight will land. It is a categorical feature having 6 unique cities.\n",
    "8)\tClass: A categorical feature that contains information on seat class; it has two distinct values: Business and Economy.\n",
    "9)\tDuration: A continuous feature that displays the overall amount of time it takes to travel between cities in hours.\n",
    "10)\tDays Left: This is a derived characteristic that is calculated by substracting the trip date from the booking date.\n",
    "11)\tPrice: Target variable stores information of the ticket price."
   ]
  },
  {
   "cell_type": "markdown",
   "id": "62a6a0fb-eaba-4fa2-b927-d9a1d5c4fd56",
   "metadata": {},
   "source": [
    "## Exploratory Data Analysis\n",
    "The data analysis is initiated by importing the dataset. But first is important to check which python environment is the notebook using. This is done because is important to make sure that we are running Python inside the virtual environment."
   ]
  },
  {
   "cell_type": "code",
   "execution_count": 2,
   "id": "5d75a993-ec5c-44d0-84cb-b32323dd91be",
   "metadata": {},
   "outputs": [
    {
     "data": {
      "text/plain": [
       "'C:\\\\Users\\\\Andres\\\\flight-fare-optimizer\\\\.venv\\\\Scripts\\\\python.exe'"
      ]
     },
     "execution_count": 2,
     "metadata": {},
     "output_type": "execute_result"
    }
   ],
   "source": [
    "import sys\n",
    "sys.executable"
   ]
  },
  {
   "cell_type": "markdown",
   "id": "b1dc2ca1-474e-45ff-90ab-eecc8e4dd841",
   "metadata": {},
   "source": [
    "The results points to the python.exe file within the '.venv > Scripts' folder inside the project's directory. If the result was something like 'AppData\\Local\\Programs\\Python\\Python3X', that would indicate that global Python is being run, not the virtual environment (.venv). \n",
    "\n",
    "It is important to validate this because some specific libraries will be used for importing and visualizing the data and is better for those to be installed locally in the project's directory so that it does not create conflict with other versions installed for other projects. Now, the libraries and the dataset can be properly imported for analysis."
   ]
  },
  {
   "cell_type": "code",
   "execution_count": 3,
   "id": "587523b3-d532-46c3-b26e-e468587ed759",
   "metadata": {},
   "outputs": [
    {
     "name": "stdout",
     "output_type": "stream",
     "text": [
      "(300153, 12)\n"
     ]
    },
    {
     "data": {
      "text/html": [
       "<div>\n",
       "<style scoped>\n",
       "    .dataframe tbody tr th:only-of-type {\n",
       "        vertical-align: middle;\n",
       "    }\n",
       "\n",
       "    .dataframe tbody tr th {\n",
       "        vertical-align: top;\n",
       "    }\n",
       "\n",
       "    .dataframe thead th {\n",
       "        text-align: right;\n",
       "    }\n",
       "</style>\n",
       "<table border=\"1\" class=\"dataframe\">\n",
       "  <thead>\n",
       "    <tr style=\"text-align: right;\">\n",
       "      <th></th>\n",
       "      <th>index</th>\n",
       "      <th>airline</th>\n",
       "      <th>flight</th>\n",
       "      <th>source_city</th>\n",
       "      <th>departure_time</th>\n",
       "      <th>stops</th>\n",
       "      <th>arrival_time</th>\n",
       "      <th>destination_city</th>\n",
       "      <th>class</th>\n",
       "      <th>duration</th>\n",
       "      <th>days_left</th>\n",
       "      <th>price</th>\n",
       "    </tr>\n",
       "  </thead>\n",
       "  <tbody>\n",
       "    <tr>\n",
       "      <th>0</th>\n",
       "      <td>0</td>\n",
       "      <td>SpiceJet</td>\n",
       "      <td>SG-8709</td>\n",
       "      <td>Delhi</td>\n",
       "      <td>Evening</td>\n",
       "      <td>zero</td>\n",
       "      <td>Night</td>\n",
       "      <td>Mumbai</td>\n",
       "      <td>Economy</td>\n",
       "      <td>2.17</td>\n",
       "      <td>1</td>\n",
       "      <td>5953</td>\n",
       "    </tr>\n",
       "    <tr>\n",
       "      <th>1</th>\n",
       "      <td>1</td>\n",
       "      <td>SpiceJet</td>\n",
       "      <td>SG-8157</td>\n",
       "      <td>Delhi</td>\n",
       "      <td>Early_Morning</td>\n",
       "      <td>zero</td>\n",
       "      <td>Morning</td>\n",
       "      <td>Mumbai</td>\n",
       "      <td>Economy</td>\n",
       "      <td>2.33</td>\n",
       "      <td>1</td>\n",
       "      <td>5953</td>\n",
       "    </tr>\n",
       "    <tr>\n",
       "      <th>2</th>\n",
       "      <td>2</td>\n",
       "      <td>AirAsia</td>\n",
       "      <td>I5-764</td>\n",
       "      <td>Delhi</td>\n",
       "      <td>Early_Morning</td>\n",
       "      <td>zero</td>\n",
       "      <td>Early_Morning</td>\n",
       "      <td>Mumbai</td>\n",
       "      <td>Economy</td>\n",
       "      <td>2.17</td>\n",
       "      <td>1</td>\n",
       "      <td>5956</td>\n",
       "    </tr>\n",
       "    <tr>\n",
       "      <th>3</th>\n",
       "      <td>3</td>\n",
       "      <td>Vistara</td>\n",
       "      <td>UK-995</td>\n",
       "      <td>Delhi</td>\n",
       "      <td>Morning</td>\n",
       "      <td>zero</td>\n",
       "      <td>Afternoon</td>\n",
       "      <td>Mumbai</td>\n",
       "      <td>Economy</td>\n",
       "      <td>2.25</td>\n",
       "      <td>1</td>\n",
       "      <td>5955</td>\n",
       "    </tr>\n",
       "    <tr>\n",
       "      <th>4</th>\n",
       "      <td>4</td>\n",
       "      <td>Vistara</td>\n",
       "      <td>UK-963</td>\n",
       "      <td>Delhi</td>\n",
       "      <td>Morning</td>\n",
       "      <td>zero</td>\n",
       "      <td>Morning</td>\n",
       "      <td>Mumbai</td>\n",
       "      <td>Economy</td>\n",
       "      <td>2.33</td>\n",
       "      <td>1</td>\n",
       "      <td>5955</td>\n",
       "    </tr>\n",
       "  </tbody>\n",
       "</table>\n",
       "</div>"
      ],
      "text/plain": [
       "   index   airline   flight source_city departure_time stops   arrival_time  \\\n",
       "0      0  SpiceJet  SG-8709       Delhi        Evening  zero          Night   \n",
       "1      1  SpiceJet  SG-8157       Delhi  Early_Morning  zero        Morning   \n",
       "2      2   AirAsia   I5-764       Delhi  Early_Morning  zero  Early_Morning   \n",
       "3      3   Vistara   UK-995       Delhi        Morning  zero      Afternoon   \n",
       "4      4   Vistara   UK-963       Delhi        Morning  zero        Morning   \n",
       "\n",
       "  destination_city    class  duration  days_left  price  \n",
       "0           Mumbai  Economy      2.17          1   5953  \n",
       "1           Mumbai  Economy      2.33          1   5953  \n",
       "2           Mumbai  Economy      2.17          1   5956  \n",
       "3           Mumbai  Economy      2.25          1   5955  \n",
       "4           Mumbai  Economy      2.33          1   5955  "
      ]
     },
     "execution_count": 3,
     "metadata": {},
     "output_type": "execute_result"
    }
   ],
   "source": [
    "import pandas as pd\n",
    "import matplotlib.pyplot as plt\n",
    "import seaborn as sns\n",
    "\n",
    "# Load flights dataset\n",
    "df = pd.read_csv('../data/raw/airlines_flights_data.csv')\n",
    "\n",
    "# Preview the data\n",
    "print(df.shape)\n",
    "df.head()"
   ]
  },
  {
   "cell_type": "markdown",
   "id": "d10aa83a-c7bf-4b0a-bd32-22fd8b8c752e",
   "metadata": {},
   "source": []
  },
  {
   "cell_type": "code",
   "execution_count": null,
   "id": "d81b3f5b-5896-4591-9d16-65ee7339bfa0",
   "metadata": {},
   "outputs": [],
   "source": []
  },
  {
   "cell_type": "code",
   "execution_count": null,
   "id": "c8591750-3414-4d86-b0a4-7f629bde96e1",
   "metadata": {},
   "outputs": [],
   "source": []
  }
 ],
 "metadata": {
  "kernelspec": {
   "display_name": "Python (flight-env)",
   "language": "python",
   "name": "flight-env"
  },
  "language_info": {
   "codemirror_mode": {
    "name": "ipython",
    "version": 3
   },
   "file_extension": ".py",
   "mimetype": "text/x-python",
   "name": "python",
   "nbconvert_exporter": "python",
   "pygments_lexer": "ipython3",
   "version": "3.13.1"
  }
 },
 "nbformat": 4,
 "nbformat_minor": 5
}
